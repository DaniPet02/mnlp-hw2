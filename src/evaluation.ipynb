{
 "cells": [
  {
   "cell_type": "markdown",
   "id": "a154ebb8",
   "metadata": {},
   "source": [
    "# Evaluation Script\n",
    "\n",
    "Follow script implement foundamental steps for evaluate a Language translation system using Prometheus Eval like as Judge"
   ]
  },
  {
   "cell_type": "code",
   "execution_count": 1,
   "id": "25569dd2",
   "metadata": {},
   "outputs": [],
   "source": [
    "import torch\n",
    "import pandas as pd\n",
    "from PrometheusAPI import PrometheusJudge\n",
    "from PrometheusAPI import MPrometheusJudge\n",
    "from datasets import Dataset\n",
    "from io import StringIO\n",
    "from utils import jsonline, txtline\n",
    "from sklearn.metrics import cohen_kappa_score"
   ]
  },
  {
   "cell_type": "code",
   "execution_count": 36,
   "id": "9ee3fbbb",
   "metadata": {},
   "outputs": [],
   "source": [
    "DEVICE = (\"cuda\" if torch.cuda.is_available() else \"cpu\")\n",
    "groupname = \"Many_Napts_Little_Progress\"\n",
    "criterio = \"standard\"\n",
    "model_name = \"Opus\""
   ]
  },
  {
   "cell_type": "markdown",
   "id": "5ae63efb",
   "metadata": {},
   "source": [
    "### Prepare Prometheus-as-a-Judge 🔥"
   ]
  },
  {
   "cell_type": "code",
   "execution_count": 3,
   "id": "75a1810f",
   "metadata": {},
   "outputs": [
    {
     "data": {
      "application/vnd.jupyter.widget-view+json": {
       "model_id": "7aeec203b2d14a28b29a63ff35e738ca",
       "version_major": 2,
       "version_minor": 0
      },
      "text/plain": [
       "Loading checkpoint shards:   0%|          | 0/8 [00:00<?, ?it/s]"
      ]
     },
     "metadata": {},
     "output_type": "display_data"
    }
   ],
   "source": [
    "j = PrometheusJudge(DEVICE)"
   ]
  },
  {
   "cell_type": "markdown",
   "id": "6874a023",
   "metadata": {},
   "source": [
    "### Load Data to evaluate"
   ]
  },
  {
   "cell_type": "code",
   "execution_count": 4,
   "id": "57f74024",
   "metadata": {},
   "outputs": [],
   "source": [
    "title = \"opus-mt-itc-itc(opus).csv\"\n",
    "dataset = Dataset.from_csv(title)\n"
   ]
  },
  {
   "cell_type": "code",
   "execution_count": 5,
   "id": "d0713838",
   "metadata": {},
   "outputs": [
    {
     "data": {
      "text/plain": [
       "['>>ita<< Altressì uno amante chiamando merzé alla sua donna dice parole e ragioni molte, et ella si difende in suo dire.',\n",
       " \">>ita<< A Milano fue ripressa la malvagità d' una donna in simile bugìa, nel tempo medesimo di questo signore della republica, in questo modo:\",\n",
       " '>>ita<< Nella quale battaglia, certo io ebbi sempre ardire di ragionare di pace e sempre mi dolfi che non solamente la pace era schifata,',\n",
       " \">>ita<< sono due già non in una carne, ma in uno spirito, cioè Iddio, e l' anima. Onde in altro luogo dice S. Paolo: Chi s' accosta a Dio è uno spirito\",\n",
       " \">>ita<< Il re entrò in uno giardino dietro al suo albergo, quasi come s'egli andasse pensando alla risposta.\",\n",
       " '>>ita<< Gorgone, e ho questa proprietà che io volo per l\\'aire sì come uno ucello\".',\n",
       " '>>ita<< Gregorio. Non udii mai che egli avesse maestro; ma il dono dello Spirito Santo non si può stringere a legge.',\n",
       " \">>ita<< e l' acconciamento a fare grandissime cose, cioè a ttenere pace et amare Idio e 'l proximo, a ffare cittadi, castella e magioni\",\n",
       " \">>ita<< Ma l' occhio della intelligenza è più alto. Perciò che, passata la grandezza della universitade, quella medesima semplice forma vede nella sottil vista\",\n",
       " '>>ita<< Pietro, essendogli mostrato in figura il populo Gentile, sì gli fu detto: ammazza, e mangia']"
      ]
     },
     "execution_count": 5,
     "metadata": {},
     "output_type": "execute_result"
    }
   ],
   "source": [
    "dataset[\"Prompt\"]"
   ]
  },
  {
   "cell_type": "markdown",
   "id": "8c804818",
   "metadata": {},
   "source": [
    "### Run Judge and Record the Response"
   ]
  },
  {
   "cell_type": "code",
   "execution_count": 6,
   "id": "3eab0d6f",
   "metadata": {},
   "outputs": [
    {
     "data": {
      "application/vnd.jupyter.widget-view+json": {
       "model_id": "4c6349b53a4d4a45a62c6a8ce4240f33",
       "version_major": 2,
       "version_minor": 0
      },
      "text/plain": [
       "Map:   0%|          | 0/10 [00:00<?, ? examples/s]"
      ]
     },
     "metadata": {},
     "output_type": "display_data"
    },
    {
     "data": {
      "text/plain": [
       "['You are a fair judge assistant tasked with providing clear, objective feedback based on specific criteria, ensuring each assessment reflects the absolute standards set for performance. \\n\\n ###Task Description:\\n        An instruction (might include an Input inside it), a response to evaluate, a reference answer that gets a score from 1 to 5, and a score rubric representing an evaluation criteria are given.\\n        1. Write a detailed feedback that assesses the quality of the response strictly based on the given score rubric, not evaluating in general.\\n        2. After writing a feedback, write a score that is an integer between 1 and 5. You should refer to the score rubric.\\n        3. The output format should look as follows: \"Feedback: (write a feedback for criteria) [RESULT] (an integer number between 1 and 5)\"\\n        4. Please do not generate any other opening, closing, and explanations.\\n\\n        ###The instruction to evaluate:\\n        >>ita<< Altressì uno amante chiamando merzé alla sua donna dice parole e ragioni molte, et ella si difende in suo dire. \\n\\n        ###Response to evaluate:\\n        Un altro amante chiamato merzé sua moglie dice parole e molte ragioni, e lei si difende nel suo dire.\\n\\n        ###Reference Answer (Score 5):\\n        Italiano Antico: \\'Orlando, che gran tempo inamorato fu de la bella Angelica.\\'\\n        Italiano Moderno (Score 1): \\'Orlando, che gran tempo è, inamorato fu de la bella Angelica.\\'\\n        Italiano Moderno (Score 2): \\'Orlando, inamorato fu gran tempo de la bella Angelica.\\'\\n        Italiano Moderno (Score 3): \\'Orlando da gran tempo è inamorato della bella Angelica.\\'\\n        Italiano Moderno (Score 4): \\'Orlando è da grande tempo innamorato della bella Angelica.\\'\\n        Italiano Moderno (Score 5): \\'Orlando è innamorato della bella Angelica da molto tempo.\\'\\n\\n        ###Score Rubrics:\\n        1: Completely Unacceptable, description: Translation bears no resemblance to the original meaning. \\n        Output is gibberish, nonsensical, or entirely irrelevant.\\n        2: Severe Errors, description: Translation contains critical semantic and/or syntactic errors, \\n        significant omissions, or unwarranted additions that distort the core message. \\n        The output is unnatural and clearly not human-like.\\n        3: Partially Incorrect / Lackluster, description: Translation conveys a portion of the original meaning but is marred by \\n        noticeable errors (e.g., typos, minor semantic inaccuracies, awkward phrasing). \\n        While understandable, it lacks polish and accuracy.\\n        4: Good Translation, description: Translation is largely accurate and faithful to the original meaning. \\n       ',\n",
       " 'You are a fair judge assistant tasked with providing clear, objective feedback based on specific criteria, ensuring each assessment reflects the absolute standards set for performance. \\n\\n ###Task Description:\\n        An instruction (might include an Input inside it), a response to evaluate, a reference answer that gets a score from 1 to 5, and a score rubric representing an evaluation criteria are given.\\n        1. Write a detailed feedback that assesses the quality of the response strictly based on the given score rubric, not evaluating in general.\\n        2. After writing a feedback, write a score that is an integer between 1 and 5. You should refer to the score rubric.\\n        3. The output format should look as follows: \"Feedback: (write a feedback for criteria) [RESULT] (an integer number between 1 and 5)\"\\n        4. Please do not generate any other opening, closing, and explanations.\\n\\n        ###The instruction to evaluate:\\n        >>ita<< A Milano fue ripressa la malvagità d\\' una donna in simile bugìa, nel tempo medesimo di questo signore della republica, in questo modo: \\n\\n        ###Response to evaluate:\\n        A Milano fu respinta la malvagità di una donna in questa menzogna, nel tempo stesso di questo signore della Repubblica, in questo modo:\\n\\n        ###Reference Answer (Score 5):\\n        Italiano Antico: \\'Orlando, che gran tempo inamorato fu de la bella Angelica.\\'\\n        Italiano Moderno (Score 1): \\'Orlando, che gran tempo è, inamorato fu de la bella Angelica.\\'\\n        Italiano Moderno (Score 2): \\'Orlando, inamorato fu gran tempo de la bella Angelica.\\'\\n        Italiano Moderno (Score 3): \\'Orlando da gran tempo è inamorato della bella Angelica.\\'\\n        Italiano Moderno (Score 4): \\'Orlando è da grande tempo innamorato della bella Angelica.\\'\\n        Italiano Moderno (Score 5): \\'Orlando è innamorato della bella Angelica da molto tempo.\\'\\n\\n        ###Score Rubrics:\\n        1: Completely Unacceptable, description: Translation bears no resemblance to the original meaning. \\n        Output is gibberish, nonsensical, or entirely irrelevant.\\n        2: Severe Errors, description: Translation contains critical semantic and/or syntactic errors, \\n        significant omissions, or unwarranted additions that distort the core message. \\n        The output is unnatural and clearly not human-like.\\n        3: Partially Incorrect / Lackluster, description: Translation conveys a portion of the original meaning but is marred by \\n        noticeable errors (e.g., typos, minor semantic inaccuracies, awkward phrasing). \\n        While understandable, it lacks polish and accuracy.\\n        4: Good Translation, description: Translation is',\n",
       " 'You are a fair judge assistant tasked with providing clear, objective feedback based on specific criteria, ensuring each assessment reflects the absolute standards set for performance. \\n\\n ###Task Description:\\n        An instruction (might include an Input inside it), a response to evaluate, a reference answer that gets a score from 1 to 5, and a score rubric representing an evaluation criteria are given.\\n        1. Write a detailed feedback that assesses the quality of the response strictly based on the given score rubric, not evaluating in general.\\n        2. After writing a feedback, write a score that is an integer between 1 and 5. You should refer to the score rubric.\\n        3. The output format should look as follows: \"Feedback: (write a feedback for criteria) [RESULT] (an integer number between 1 and 5)\"\\n        4. Please do not generate any other opening, closing, and explanations.\\n\\n        ###The instruction to evaluate:\\n        >>ita<< Nella quale battaglia, certo io ebbi sempre ardire di ragionare di pace e sempre mi dolfi che non solamente la pace era schifata, \\n\\n        ###Response to evaluate:\\n        In cui battaglia, certo, mi sono sempre arso di ragionare di pace e mi dà sempre dolore che non solo la pace era schiacciata,\\n\\n        ###Reference Answer (Score 5):\\n        Italiano Antico: \\'Orlando, che gran tempo inamorato fu de la bella Angelica.\\'\\n        Italiano Moderno (Score 1): \\'Orlando, che gran tempo è, inamorato fu de la bella Angelica.\\'\\n        Italiano Moderno (Score 2): \\'Orlando, inamorato fu gran tempo de la bella Angelica.\\'\\n        Italiano Moderno (Score 3): \\'Orlando da gran tempo è inamorato della bella Angelica.\\'\\n        Italiano Moderno (Score 4): \\'Orlando è da grande tempo innamorato della bella Angelica.\\'\\n        Italiano Moderno (Score 5): \\'Orlando è innamorato della bella Angelica da molto tempo.\\'\\n\\n        ###Score Rubrics:\\n        1: Completely Unacceptable, description: Translation bears no resemblance to the original meaning. \\n        Output is gibberish, nonsensical, or entirely irrelevant.\\n        2: Severe Errors, description: Translation contains critical semantic and/or syntactic errors, \\n        significant omissions, or unwarranted additions that distort the core message. \\n        The output is unnatural and clearly not human-like.\\n        3: Partially Incorrect / Lackluster, description: Translation conveys a portion of the original meaning but is marred by \\n        noticeable errors (e.g., typos, minor semantic inaccuracies, awkward phrasing). \\n        While understandable, it lacks polish and accuracy.\\n        4: Good Translation, description: Translation is largely accurate and faithful',\n",
       " 'You are a fair judge assistant tasked with providing clear, objective feedback based on specific criteria, ensuring each assessment reflects the absolute standards set for performance. \\n\\n ###Task Description:\\n        An instruction (might include an Input inside it), a response to evaluate, a reference answer that gets a score from 1 to 5, and a score rubric representing an evaluation criteria are given.\\n        1. Write a detailed feedback that assesses the quality of the response strictly based on the given score rubric, not evaluating in general.\\n        2. After writing a feedback, write a score that is an integer between 1 and 5. You should refer to the score rubric.\\n        3. The output format should look as follows: \"Feedback: (write a feedback for criteria) [RESULT] (an integer number between 1 and 5)\"\\n        4. Please do not generate any other opening, closing, and explanations.\\n\\n        ###The instruction to evaluate:\\n        >>ita<< sono due già non in una carne, ma in uno spirito, cioè Iddio, e l\\' anima. Onde in altro luogo dice S. Paolo: Chi s\\' accosta a Dio è uno spirito \\n\\n        ###Response to evaluate:\\n        sono già due non in una carne, ma in uno spirito, cioè Dio, e l\\'anima. Dove altro dice S. Paolo: Chi si avvicina a Dio è uno spirito\\n\\n        ###Reference Answer (Score 5):\\n        Italiano Antico: \\'Orlando, che gran tempo inamorato fu de la bella Angelica.\\'\\n        Italiano Moderno (Score 1): \\'Orlando, che gran tempo è, inamorato fu de la bella Angelica.\\'\\n        Italiano Moderno (Score 2): \\'Orlando, inamorato fu gran tempo de la bella Angelica.\\'\\n        Italiano Moderno (Score 3): \\'Orlando da gran tempo è inamorato della bella Angelica.\\'\\n        Italiano Moderno (Score 4): \\'Orlando è da grande tempo innamorato della bella Angelica.\\'\\n        Italiano Moderno (Score 5): \\'Orlando è innamorato della bella Angelica da molto tempo.\\'\\n\\n        ###Score Rubrics:\\n        1: Completely Unacceptable, description: Translation bears no resemblance to the original meaning. \\n        Output is gibberish, nonsensical, or entirely irrelevant.\\n        2: Severe Errors, description: Translation contains critical semantic and/or syntactic errors, \\n        significant omissions, or unwarranted additions that distort the core message. \\n        The output is unnatural and clearly not human-like.\\n        3: Partially Incorrect / Lackluster, description: Translation conveys a portion of the original meaning but is marred by \\n        noticeable errors (e.g., typos, minor semantic inaccuracies, awkward phrasing). \\n',\n",
       " 'You are a fair judge assistant tasked with providing clear, objective feedback based on specific criteria, ensuring each assessment reflects the absolute standards set for performance. \\n\\n ###Task Description:\\n        An instruction (might include an Input inside it), a response to evaluate, a reference answer that gets a score from 1 to 5, and a score rubric representing an evaluation criteria are given.\\n        1. Write a detailed feedback that assesses the quality of the response strictly based on the given score rubric, not evaluating in general.\\n        2. After writing a feedback, write a score that is an integer between 1 and 5. You should refer to the score rubric.\\n        3. The output format should look as follows: \"Feedback: (write a feedback for criteria) [RESULT] (an integer number between 1 and 5)\"\\n        4. Please do not generate any other opening, closing, and explanations.\\n\\n        ###The instruction to evaluate:\\n        >>ita<< Il re entrò in uno giardino dietro al suo albergo, quasi come s\\'egli andasse pensando alla risposta. \\n\\n        ###Response to evaluate:\\n        Il re entrò in un giardino dietro al suo albergo, quasi come se stesse pensando alla risposta.\\n\\n        ###Reference Answer (Score 5):\\n        Italiano Antico: \\'Orlando, che gran tempo inamorato fu de la bella Angelica.\\'\\n        Italiano Moderno (Score 1): \\'Orlando, che gran tempo è, inamorato fu de la bella Angelica.\\'\\n        Italiano Moderno (Score 2): \\'Orlando, inamorato fu gran tempo de la bella Angelica.\\'\\n        Italiano Moderno (Score 3): \\'Orlando da gran tempo è inamorato della bella Angelica.\\'\\n        Italiano Moderno (Score 4): \\'Orlando è da grande tempo innamorato della bella Angelica.\\'\\n        Italiano Moderno (Score 5): \\'Orlando è innamorato della bella Angelica da molto tempo.\\'\\n\\n        ###Score Rubrics:\\n        1: Completely Unacceptable, description: Translation bears no resemblance to the original meaning. \\n        Output is gibberish, nonsensical, or entirely irrelevant.\\n        2: Severe Errors, description: Translation contains critical semantic and/or syntactic errors, \\n        significant omissions, or unwarranted additions that distort the core message. \\n        The output is unnatural and clearly not human-like.\\n        3: Partially Incorrect / Lackluster, description: Translation conveys a portion of the original meaning but is marred by \\n        noticeable errors (e.g., typos, minor semantic inaccuracies, awkward phrasing). \\n        While understandable, it lacks polish and accuracy.\\n        4: Good Translation, description: Translation is largely accurate and faithful to the original meaning. \\n        It is fluent, comprehens',\n",
       " 'You are a fair judge assistant tasked with providing clear, objective feedback based on specific criteria, ensuring each assessment reflects the absolute standards set for performance. \\n\\n ###Task Description:\\n        An instruction (might include an Input inside it), a response to evaluate, a reference answer that gets a score from 1 to 5, and a score rubric representing an evaluation criteria are given.\\n        1. Write a detailed feedback that assesses the quality of the response strictly based on the given score rubric, not evaluating in general.\\n        2. After writing a feedback, write a score that is an integer between 1 and 5. You should refer to the score rubric.\\n        3. The output format should look as follows: \"Feedback: (write a feedback for criteria) [RESULT] (an integer number between 1 and 5)\"\\n        4. Please do not generate any other opening, closing, and explanations.\\n\\n        ###The instruction to evaluate:\\n        >>ita<< Gorgone, e ho questa proprietà che io volo per l\\'aire sì come uno ucello\". \\n\\n        ###Response to evaluate:\\n        Gorgone, e ho questa proprietà che voglio per l\\'aria sì come un uccello\".\\n\\n        ###Reference Answer (Score 5):\\n        Italiano Antico: \\'Orlando, che gran tempo inamorato fu de la bella Angelica.\\'\\n        Italiano Moderno (Score 1): \\'Orlando, che gran tempo è, inamorato fu de la bella Angelica.\\'\\n        Italiano Moderno (Score 2): \\'Orlando, inamorato fu gran tempo de la bella Angelica.\\'\\n        Italiano Moderno (Score 3): \\'Orlando da gran tempo è inamorato della bella Angelica.\\'\\n        Italiano Moderno (Score 4): \\'Orlando è da grande tempo innamorato della bella Angelica.\\'\\n        Italiano Moderno (Score 5): \\'Orlando è innamorato della bella Angelica da molto tempo.\\'\\n\\n        ###Score Rubrics:\\n        1: Completely Unacceptable, description: Translation bears no resemblance to the original meaning. \\n        Output is gibberish, nonsensical, or entirely irrelevant.\\n        2: Severe Errors, description: Translation contains critical semantic and/or syntactic errors, \\n        significant omissions, or unwarranted additions that distort the core message. \\n        The output is unnatural and clearly not human-like.\\n        3: Partially Incorrect / Lackluster, description: Translation conveys a portion of the original meaning but is marred by \\n        noticeable errors (e.g., typos, minor semantic inaccuracies, awkward phrasing). \\n        While understandable, it lacks polish and accuracy.\\n        4: Good Translation, description: Translation is largely accurate and faithful to the original meaning. \\n        It is fluent, comprehensible, and semantically sound. \\n       ',\n",
       " 'You are a fair judge assistant tasked with providing clear, objective feedback based on specific criteria, ensuring each assessment reflects the absolute standards set for performance. \\n\\n ###Task Description:\\n        An instruction (might include an Input inside it), a response to evaluate, a reference answer that gets a score from 1 to 5, and a score rubric representing an evaluation criteria are given.\\n        1. Write a detailed feedback that assesses the quality of the response strictly based on the given score rubric, not evaluating in general.\\n        2. After writing a feedback, write a score that is an integer between 1 and 5. You should refer to the score rubric.\\n        3. The output format should look as follows: \"Feedback: (write a feedback for criteria) [RESULT] (an integer number between 1 and 5)\"\\n        4. Please do not generate any other opening, closing, and explanations.\\n\\n        ###The instruction to evaluate:\\n        >>ita<< Gregorio. Non udii mai che egli avesse maestro; ma il dono dello Spirito Santo non si può stringere a legge. \\n\\n        ###Response to evaluate:\\n        Gregorio. Non ho mai sentito che aveva un insegnante; ma il dono dello Spirito Santo non può essere vincolato alla legge.\\n\\n        ###Reference Answer (Score 5):\\n        Italiano Antico: \\'Orlando, che gran tempo inamorato fu de la bella Angelica.\\'\\n        Italiano Moderno (Score 1): \\'Orlando, che gran tempo è, inamorato fu de la bella Angelica.\\'\\n        Italiano Moderno (Score 2): \\'Orlando, inamorato fu gran tempo de la bella Angelica.\\'\\n        Italiano Moderno (Score 3): \\'Orlando da gran tempo è inamorato della bella Angelica.\\'\\n        Italiano Moderno (Score 4): \\'Orlando è da grande tempo innamorato della bella Angelica.\\'\\n        Italiano Moderno (Score 5): \\'Orlando è innamorato della bella Angelica da molto tempo.\\'\\n\\n        ###Score Rubrics:\\n        1: Completely Unacceptable, description: Translation bears no resemblance to the original meaning. \\n        Output is gibberish, nonsensical, or entirely irrelevant.\\n        2: Severe Errors, description: Translation contains critical semantic and/or syntactic errors, \\n        significant omissions, or unwarranted additions that distort the core message. \\n        The output is unnatural and clearly not human-like.\\n        3: Partially Incorrect / Lackluster, description: Translation conveys a portion of the original meaning but is marred by \\n        noticeable errors (e.g., typos, minor semantic inaccuracies, awkward phrasing). \\n        While understandable, it lacks polish and accuracy.\\n        4: Good Translation, description: Translation is largely accurate and faithful to the original meaning.',\n",
       " 'You are a fair judge assistant tasked with providing clear, objective feedback based on specific criteria, ensuring each assessment reflects the absolute standards set for performance. \\n\\n ###Task Description:\\n        An instruction (might include an Input inside it), a response to evaluate, a reference answer that gets a score from 1 to 5, and a score rubric representing an evaluation criteria are given.\\n        1. Write a detailed feedback that assesses the quality of the response strictly based on the given score rubric, not evaluating in general.\\n        2. After writing a feedback, write a score that is an integer between 1 and 5. You should refer to the score rubric.\\n        3. The output format should look as follows: \"Feedback: (write a feedback for criteria) [RESULT] (an integer number between 1 and 5)\"\\n        4. Please do not generate any other opening, closing, and explanations.\\n\\n        ###The instruction to evaluate:\\n        >>ita<< e l\\' acconciamento a fare grandissime cose, cioè a ttenere pace et amare Idio e \\'l proximo, a ffare cittadi, castella e magioni \\n\\n        ###Response to evaluate:\\n        e l\\'incoraggiamento a fare grandi cose, cioè a mantenere la pace e l\\'amore dell\\'Iddio e\\' il prossimo, a fare città, castello e magioni\\n\\n        ###Reference Answer (Score 5):\\n        Italiano Antico: \\'Orlando, che gran tempo inamorato fu de la bella Angelica.\\'\\n        Italiano Moderno (Score 1): \\'Orlando, che gran tempo è, inamorato fu de la bella Angelica.\\'\\n        Italiano Moderno (Score 2): \\'Orlando, inamorato fu gran tempo de la bella Angelica.\\'\\n        Italiano Moderno (Score 3): \\'Orlando da gran tempo è inamorato della bella Angelica.\\'\\n        Italiano Moderno (Score 4): \\'Orlando è da grande tempo innamorato della bella Angelica.\\'\\n        Italiano Moderno (Score 5): \\'Orlando è innamorato della bella Angelica da molto tempo.\\'\\n\\n        ###Score Rubrics:\\n        1: Completely Unacceptable, description: Translation bears no resemblance to the original meaning. \\n        Output is gibberish, nonsensical, or entirely irrelevant.\\n        2: Severe Errors, description: Translation contains critical semantic and/or syntactic errors, \\n        significant omissions, or unwarranted additions that distort the core message. \\n        The output is unnatural and clearly not human-like.\\n        3: Partially Incorrect / Lackluster, description: Translation conveys a portion of the original meaning but is marred by \\n        noticeable errors (e.g., typos, minor semantic inaccuracies, awkward phrasing). \\n        While understandable, it lacks polish and',\n",
       " 'You are a fair judge assistant tasked with providing clear, objective feedback based on specific criteria, ensuring each assessment reflects the absolute standards set for performance. \\n\\n ###Task Description:\\n        An instruction (might include an Input inside it), a response to evaluate, a reference answer that gets a score from 1 to 5, and a score rubric representing an evaluation criteria are given.\\n        1. Write a detailed feedback that assesses the quality of the response strictly based on the given score rubric, not evaluating in general.\\n        2. After writing a feedback, write a score that is an integer between 1 and 5. You should refer to the score rubric.\\n        3. The output format should look as follows: \"Feedback: (write a feedback for criteria) [RESULT] (an integer number between 1 and 5)\"\\n        4. Please do not generate any other opening, closing, and explanations.\\n\\n        ###The instruction to evaluate:\\n        >>ita<< Ma l\\' occhio della intelligenza è più alto. Perciò che, passata la grandezza della universitade, quella medesima semplice forma vede nella sottil vista \\n\\n        ###Response to evaluate:\\n        Ma l\\' occhio dell\\'intelligenza è più alto, quindi, trascorso la grandezza dell\\'università, la medesima forma vede nella sottile vista\\n\\n        ###Reference Answer (Score 5):\\n        Italiano Antico: \\'Orlando, che gran tempo inamorato fu de la bella Angelica.\\'\\n        Italiano Moderno (Score 1): \\'Orlando, che gran tempo è, inamorato fu de la bella Angelica.\\'\\n        Italiano Moderno (Score 2): \\'Orlando, inamorato fu gran tempo de la bella Angelica.\\'\\n        Italiano Moderno (Score 3): \\'Orlando da gran tempo è inamorato della bella Angelica.\\'\\n        Italiano Moderno (Score 4): \\'Orlando è da grande tempo innamorato della bella Angelica.\\'\\n        Italiano Moderno (Score 5): \\'Orlando è innamorato della bella Angelica da molto tempo.\\'\\n\\n        ###Score Rubrics:\\n        1: Completely Unacceptable, description: Translation bears no resemblance to the original meaning. \\n        Output is gibberish, nonsensical, or entirely irrelevant.\\n        2: Severe Errors, description: Translation contains critical semantic and/or syntactic errors, \\n        significant omissions, or unwarranted additions that distort the core message. \\n        The output is unnatural and clearly not human-like.\\n        3: Partially Incorrect / Lackluster, description: Translation conveys a portion of the original meaning but is marred by \\n        noticeable errors (e.g., typos, minor semantic inaccuracies, awkward phrasing). \\n        While understandable, it lacks polish and accuracy.\\n        4:',\n",
       " 'You are a fair judge assistant tasked with providing clear, objective feedback based on specific criteria, ensuring each assessment reflects the absolute standards set for performance. \\n\\n ###Task Description:\\n        An instruction (might include an Input inside it), a response to evaluate, a reference answer that gets a score from 1 to 5, and a score rubric representing an evaluation criteria are given.\\n        1. Write a detailed feedback that assesses the quality of the response strictly based on the given score rubric, not evaluating in general.\\n        2. After writing a feedback, write a score that is an integer between 1 and 5. You should refer to the score rubric.\\n        3. The output format should look as follows: \"Feedback: (write a feedback for criteria) [RESULT] (an integer number between 1 and 5)\"\\n        4. Please do not generate any other opening, closing, and explanations.\\n\\n        ###The instruction to evaluate:\\n        >>ita<< Pietro, essendogli mostrato in figura il populo Gentile, sì gli fu detto: ammazza, e mangia \\n\\n        ###Response to evaluate:\\n        Pietro, mostratogli in figura il popolo Gentili, gli fu detto: Uccidete e mangiate\\n\\n        ###Reference Answer (Score 5):\\n        Italiano Antico: \\'Orlando, che gran tempo inamorato fu de la bella Angelica.\\'\\n        Italiano Moderno (Score 1): \\'Orlando, che gran tempo è, inamorato fu de la bella Angelica.\\'\\n        Italiano Moderno (Score 2): \\'Orlando, inamorato fu gran tempo de la bella Angelica.\\'\\n        Italiano Moderno (Score 3): \\'Orlando da gran tempo è inamorato della bella Angelica.\\'\\n        Italiano Moderno (Score 4): \\'Orlando è da grande tempo innamorato della bella Angelica.\\'\\n        Italiano Moderno (Score 5): \\'Orlando è innamorato della bella Angelica da molto tempo.\\'\\n\\n        ###Score Rubrics:\\n        1: Completely Unacceptable, description: Translation bears no resemblance to the original meaning. \\n        Output is gibberish, nonsensical, or entirely irrelevant.\\n        2: Severe Errors, description: Translation contains critical semantic and/or syntactic errors, \\n        significant omissions, or unwarranted additions that distort the core message. \\n        The output is unnatural and clearly not human-like.\\n        3: Partially Incorrect / Lackluster, description: Translation conveys a portion of the original meaning but is marred by \\n        noticeable errors (e.g., typos, minor semantic inaccuracies, awkward phrasing). \\n        While understandable, it lacks polish and accuracy.\\n        4: Good Translation, description: Translation is largely accurate and faithful to the original meaning. \\n        It is fluent']"
      ]
     },
     "execution_count": 6,
     "metadata": {},
     "output_type": "execute_result"
    }
   ],
   "source": [
    "tokenized = j.tokenize(dataset)\n",
    "j.get_tokenizer().batch_decode(tokenized[\"input_ids\"], skip_special_tokens=True)\n"
   ]
  },
  {
   "cell_type": "code",
   "execution_count": 7,
   "id": "14b87643",
   "metadata": {},
   "outputs": [
    {
     "data": {
      "application/vnd.jupyter.widget-view+json": {
       "model_id": "3986abc86926489e8b517c204c5dc457",
       "version_major": 2,
       "version_minor": 0
      },
      "text/plain": [
       "🔥⚖️Judging⚖️🔥:   0%|          | 0/10 [00:00<?, ?it/s]"
      ]
     },
     "metadata": {},
     "output_type": "display_data"
    },
    {
     "name": "stderr",
     "output_type": "stream",
     "text": [
      "Setting `pad_token_id` to `eos_token_id`:2 for open-end generation.\n",
      "Setting `pad_token_id` to `eos_token_id`:2 for open-end generation.\n",
      "Setting `pad_token_id` to `eos_token_id`:2 for open-end generation.\n",
      "Setting `pad_token_id` to `eos_token_id`:2 for open-end generation.\n",
      "Setting `pad_token_id` to `eos_token_id`:2 for open-end generation.\n",
      "Setting `pad_token_id` to `eos_token_id`:2 for open-end generation.\n",
      "Setting `pad_token_id` to `eos_token_id`:2 for open-end generation.\n",
      "Setting `pad_token_id` to `eos_token_id`:2 for open-end generation.\n",
      "Setting `pad_token_id` to `eos_token_id`:2 for open-end generation.\n",
      "Setting `pad_token_id` to `eos_token_id`:2 for open-end generation.\n"
     ]
    }
   ],
   "source": [
    "r = j.judge(tokenized)\n"
   ]
  },
  {
   "cell_type": "code",
   "execution_count": 12,
   "id": "49f52658",
   "metadata": {},
   "outputs": [],
   "source": [
    "txtline(r, \"PrometheusEvalJudge.txt\")\n",
    "scores = j.parse_responses(r)"
   ]
  },
  {
   "cell_type": "markdown",
   "id": "7b3b40f4",
   "metadata": {},
   "source": [
    "### Annotate Results"
   ]
  },
  {
   "cell_type": "code",
   "execution_count": 35,
   "id": "8c9c887f",
   "metadata": {},
   "outputs": [],
   "source": [
    "ann = pd.read_csv(title, delimiter=\",\", quoting=1)\n",
    "ann[\"Judge_Score(Prometheus)\"] = scores"
   ]
  },
  {
   "cell_type": "code",
   "execution_count": null,
   "id": "f421756f",
   "metadata": {},
   "outputs": [],
   "source": []
  },
  {
   "cell_type": "markdown",
   "id": "48f716fc",
   "metadata": {},
   "source": [
    "### CSV Report (Fast Revision)"
   ]
  },
  {
   "cell_type": "code",
   "execution_count": 37,
   "id": "96d1ce07",
   "metadata": {},
   "outputs": [],
   "source": [
    "ann.to_csv(f\"{groupname}-hw2_transl-{model_name}\")"
   ]
  },
  {
   "cell_type": "markdown",
   "id": "7cbaf360",
   "metadata": {},
   "source": [
    "### Jsonl Report (Requirements)"
   ]
  },
  {
   "cell_type": "markdown",
   "id": "6c2cffce",
   "metadata": {},
   "source": [
    "### Human-Metrics Correlation"
   ]
  },
  {
   "cell_type": "code",
   "execution_count": 15,
   "id": "d2578f66",
   "metadata": {},
   "outputs": [],
   "source": [
    "judges = [\"Judge_Score(Prometheus)\", \"Judge_Score(Gemini)\", \"Judge_Score(GPT)\"]\n",
    "human = [\"User_Score\"]"
   ]
  },
  {
   "cell_type": "code",
   "execution_count": null,
   "id": "a1e7bf1c",
   "metadata": {},
   "outputs": [
    {
     "name": "stdout",
     "output_type": "stream",
     "text": [
      "-0.31034482758620685\n",
      "1.6\n",
      "3.8\n",
      "0.5454545454545454\n",
      "1.1\n",
      "1.5\n",
      "0.3846153846153846\n",
      "1.4\n",
      "2.4\n"
     ]
    }
   ],
   "source": [
    "from sklearn.metrics import mean_absolute_error\n",
    "\n",
    "\n",
    "for j, h in zip(judges, human*3):\n",
    "    y1 = ann[j]\n",
    "    y2 = ann[h]\n",
    "  \n",
    "    cks = cohen_kappa_score(y1, y2, labels=[1,2,3,4,5], weights=\"quadratic\")\n",
    "    mar = mean_absolute_error(y2,y1)\n",
    "  \n",
    "    print(cks)\n",
    "    print(mar)\n",
    "\n",
    "\n"
   ]
  },
  {
   "cell_type": "code",
   "execution_count": null,
   "id": "da03c52a",
   "metadata": {},
   "outputs": [],
   "source": []
  }
 ],
 "metadata": {
  "kernelspec": {
   "display_name": "MNLP",
   "language": "python",
   "name": "python3"
  },
  "language_info": {
   "codemirror_mode": {
    "name": "ipython",
    "version": 3
   },
   "file_extension": ".py",
   "mimetype": "text/x-python",
   "name": "python",
   "nbconvert_exporter": "python",
   "pygments_lexer": "ipython3",
   "version": "3.13.3"
  }
 },
 "nbformat": 4,
 "nbformat_minor": 5
}
