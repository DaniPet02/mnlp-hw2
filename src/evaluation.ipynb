{
 "cells": [
  {
   "cell_type": "markdown",
   "id": "a154ebb8",
   "metadata": {},
   "source": [
    "# Evaluation Script\n",
    "\n",
    "Follow script implement foundamental steps for evaluate a Language translation system using Prometheus Eval like Judge"
   ]
  },
  {
   "cell_type": "code",
   "execution_count": null,
   "id": "25569dd2",
   "metadata": {},
   "outputs": [],
   "source": [
    "import torch\n",
    "import pandas as pd\n",
    "from PrometheusAPI import PrometheusJudge\n",
    "from pathlib import Path\n",
    "from io import StringIO\n",
    "from utils import jsonline\n",
    "from sklearn.metrics import cohen_kappa_score"
   ]
  },
  {
   "cell_type": "markdown",
   "id": "5ae63efb",
   "metadata": {},
   "source": [
    "### Prepare Judge"
   ]
  },
  {
   "cell_type": "code",
   "execution_count": null,
   "id": "75a1810f",
   "metadata": {},
   "outputs": [],
   "source": [
    "DEVICE = (\"cuda\" if torch.cuda.is_available() else \"cpu\")\n",
    "j = PrometheusJudge(DEVICE)"
   ]
  },
  {
   "cell_type": "markdown",
   "id": "6874a023",
   "metadata": {},
   "source": [
    "### Load Data to evaluate"
   ]
  },
  {
   "cell_type": "code",
   "execution_count": null,
   "id": "57f74024",
   "metadata": {},
   "outputs": [],
   "source": [
    "title = Path(\"\")\n",
    "dataset = pd.read_csv(title, sep=\",\", index=False, quoting=1, encoding='utf-8')\n",
    "text = dataset[\"\"].to_list()"
   ]
  },
  {
   "cell_type": "markdown",
   "id": "8c804818",
   "metadata": {},
   "source": [
    "### Run Judge and Record the Response"
   ]
  },
  {
   "cell_type": "code",
   "execution_count": null,
   "id": "14b87643",
   "metadata": {},
   "outputs": [],
   "source": [
    "r = j.judge(text)"
   ]
  },
  {
   "cell_type": "code",
   "execution_count": null,
   "id": "49f52658",
   "metadata": {},
   "outputs": [],
   "source": []
  },
  {
   "cell_type": "markdown",
   "id": "6c2cffce",
   "metadata": {},
   "source": [
    "### Human-Metrics Correlation"
   ]
  },
  {
   "cell_type": "code",
   "execution_count": null,
   "id": "a1e7bf1c",
   "metadata": {},
   "outputs": [],
   "source": [
    "x = []\n",
    "y = []\n",
    "cohen_kappa_score(x, y)"
   ]
  }
 ],
 "metadata": {
  "kernelspec": {
   "display_name": "MNLP",
   "language": "python",
   "name": "python3"
  },
  "language_info": {
   "codemirror_mode": {
    "name": "ipython",
    "version": 3
   },
   "file_extension": ".py",
   "mimetype": "text/x-python",
   "name": "python",
   "nbconvert_exporter": "python",
   "pygments_lexer": "ipython3",
   "version": "3.11.2"
  }
 },
 "nbformat": 4,
 "nbformat_minor": 5
}
