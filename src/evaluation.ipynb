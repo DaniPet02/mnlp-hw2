{
 "cells": [
  {
   "cell_type": "markdown",
   "id": "a154ebb8",
   "metadata": {},
   "source": [
    "# Evaluation Script\n",
    "\n",
    "Follow script implement foundamental steps for evaluate a Language translation system using Prometheus Eval like Judge"
   ]
  },
  {
   "cell_type": "code",
   "execution_count": 1,
   "id": "25569dd2",
   "metadata": {},
   "outputs": [],
   "source": [
    "import torch\n",
    "import pandas as pd\n",
    "from PrometheusAPI import PrometheusJudge\n",
    "from pathlib import Path\n",
    "from io import StringIO\n",
    "from utils import jsonline\n",
    "from sklearn.metrics import cohen_kappa_score"
   ]
  },
  {
   "cell_type": "markdown",
   "id": "5ae63efb",
   "metadata": {},
   "source": [
    "### Prepare Judge"
   ]
  },
  {
   "cell_type": "code",
   "execution_count": 2,
   "id": "75a1810f",
   "metadata": {},
   "outputs": [
    {
     "data": {
      "application/vnd.jupyter.widget-view+json": {
       "model_id": "1f052be6d9f94a628fe83d1eeaed8d7c",
       "version_major": 2,
       "version_minor": 0
      },
      "text/plain": [
       "Loading checkpoint shards:   0%|          | 0/8 [00:00<?, ?it/s]"
      ]
     },
     "metadata": {},
     "output_type": "display_data"
    }
   ],
   "source": [
    "DEVICE = (\"cuda\" if torch.cuda.is_available() else \"cpu\")\n",
    "j = PrometheusJudge(DEVICE)"
   ]
  },
  {
   "cell_type": "markdown",
   "id": "6874a023",
   "metadata": {},
   "source": [
    "### Load Data to evaluate"
   ]
  },
  {
   "cell_type": "code",
   "execution_count": 8,
   "id": "57f74024",
   "metadata": {},
   "outputs": [],
   "source": [
    "title = Path(\"opus-mt-itc-itc(opus).csv\")\n",
    "response = pd.read_csv(title, sep=\",\", quoting=1, encoding='utf-8')"
   ]
  },
  {
   "cell_type": "code",
   "execution_count": 9,
   "id": "d0713838",
   "metadata": {},
   "outputs": [
    {
     "data": {
      "application/vnd.microsoft.datawrangler.viewer.v0+json": {
       "columns": [
        {
         "name": "index",
         "rawType": "int64",
         "type": "integer"
        },
        {
         "name": "Prompt",
         "rawType": "object",
         "type": "string"
        },
        {
         "name": "Original",
         "rawType": "object",
         "type": "string"
        },
        {
         "name": "Target",
         "rawType": "object",
         "type": "string"
        },
        {
         "name": "Translation(Generated)",
         "rawType": "object",
         "type": "string"
        },
        {
         "name": "User_Score",
         "rawType": "int64",
         "type": "integer"
        },
        {
         "name": "Judge_Score(Prometheus)",
         "rawType": "float64",
         "type": "float"
        },
        {
         "name": "Judge_Score(Gemini)",
         "rawType": "int64",
         "type": "integer"
        },
        {
         "name": "Judge_Score(GPT)",
         "rawType": "int64",
         "type": "integer"
        }
       ],
       "ref": "90b7f598-7569-4255-ba70-806a49cd742a",
       "rows": [
        [
         "0",
         ">>ita<< Altressì uno amante chiamando merzé alla sua donna dice parole e ragioni molte, et ella si difende in suo dire.",
         "Altressì uno amante chiamando merzé alla sua donna dice parole e ragioni molte, et ella si difende in suo dire.",
         "Così anche un innamorato, invocando pietà dalla sua donna, le rivolge molte parole e argomentazioni, ed ella risponde difendendosi con le sue ragioni.",
         "Un altro amante chiamato merzé sua moglie dice parole e molte ragioni, e lei si difende nel suo dire.",
         "1",
         null,
         "2",
         "2"
        ],
        [
         "1",
         ">>ita<< A Milano fue ripressa la malvagità d' una donna in simile bugìa, nel tempo medesimo di questo signore della republica, in questo modo:",
         "A Milano fue ripressa la malvagità d' una donna in simile bugìa, nel tempo medesimo di questo signore della republica, in questo modo: ",
         "A Milano, nel periodo in cui quest’uomo era signore della repubblica, fu svelata la malvagità di una donna, scoperta mentre raccontava una simile bugia, e smascherata in questo modo:",
         "A Milano fu respinta la malvagità di una donna in questa menzogna, nel tempo stesso di questo signore della Repubblica, in questo modo:",
         "2",
         null,
         "3",
         "4"
        ],
        [
         "2",
         ">>ita<< Nella quale battaglia, certo io ebbi sempre ardire di ragionare di pace e sempre mi dolfi che non solamente la pace era schifata,",
         "Nella quale battaglia, certo io ebbi sempre ardire di ragionare di pace e sempre mi dolfi che non solamente la pace era schifata,",
         "In quella battaglia, ebbi sempre il coraggio di parlare di pace e mi addolorò che non solo la pace fosse rifiutata,",
         "In cui battaglia, certo, mi sono sempre arso di ragionare di pace e mi dà sempre dolore che non solo la pace era schiacciata,",
         "1",
         null,
         "2",
         "3"
        ]
       ],
       "shape": {
        "columns": 8,
        "rows": 3
       }
      },
      "text/html": [
       "<div>\n",
       "<style scoped>\n",
       "    .dataframe tbody tr th:only-of-type {\n",
       "        vertical-align: middle;\n",
       "    }\n",
       "\n",
       "    .dataframe tbody tr th {\n",
       "        vertical-align: top;\n",
       "    }\n",
       "\n",
       "    .dataframe thead th {\n",
       "        text-align: right;\n",
       "    }\n",
       "</style>\n",
       "<table border=\"1\" class=\"dataframe\">\n",
       "  <thead>\n",
       "    <tr style=\"text-align: right;\">\n",
       "      <th></th>\n",
       "      <th>Prompt</th>\n",
       "      <th>Original</th>\n",
       "      <th>Target</th>\n",
       "      <th>Translation(Generated)</th>\n",
       "      <th>User_Score</th>\n",
       "      <th>Judge_Score(Prometheus)</th>\n",
       "      <th>Judge_Score(Gemini)</th>\n",
       "      <th>Judge_Score(GPT)</th>\n",
       "    </tr>\n",
       "  </thead>\n",
       "  <tbody>\n",
       "    <tr>\n",
       "      <th>0</th>\n",
       "      <td>&gt;&gt;ita&lt;&lt; Altressì uno amante chiamando merzé al...</td>\n",
       "      <td>Altressì uno amante chiamando merzé alla sua d...</td>\n",
       "      <td>Così anche un innamorato, invocando pietà dall...</td>\n",
       "      <td>Un altro amante chiamato merzé sua moglie dice...</td>\n",
       "      <td>1</td>\n",
       "      <td>NaN</td>\n",
       "      <td>2</td>\n",
       "      <td>2</td>\n",
       "    </tr>\n",
       "    <tr>\n",
       "      <th>1</th>\n",
       "      <td>&gt;&gt;ita&lt;&lt; A Milano fue ripressa la malvagità d' ...</td>\n",
       "      <td>A Milano fue ripressa la malvagità d' una donn...</td>\n",
       "      <td>A Milano, nel periodo in cui quest’uomo era si...</td>\n",
       "      <td>A Milano fu respinta la malvagità di una donna...</td>\n",
       "      <td>2</td>\n",
       "      <td>NaN</td>\n",
       "      <td>3</td>\n",
       "      <td>4</td>\n",
       "    </tr>\n",
       "    <tr>\n",
       "      <th>2</th>\n",
       "      <td>&gt;&gt;ita&lt;&lt; Nella quale battaglia, certo io ebbi s...</td>\n",
       "      <td>Nella quale battaglia, certo io ebbi sempre ar...</td>\n",
       "      <td>In quella battaglia, ebbi sempre il coraggio d...</td>\n",
       "      <td>In cui battaglia, certo, mi sono sempre arso d...</td>\n",
       "      <td>1</td>\n",
       "      <td>NaN</td>\n",
       "      <td>2</td>\n",
       "      <td>3</td>\n",
       "    </tr>\n",
       "  </tbody>\n",
       "</table>\n",
       "</div>"
      ],
      "text/plain": [
       "                                              Prompt  \\\n",
       "0  >>ita<< Altressì uno amante chiamando merzé al...   \n",
       "1  >>ita<< A Milano fue ripressa la malvagità d' ...   \n",
       "2  >>ita<< Nella quale battaglia, certo io ebbi s...   \n",
       "\n",
       "                                            Original  \\\n",
       "0  Altressì uno amante chiamando merzé alla sua d...   \n",
       "1  A Milano fue ripressa la malvagità d' una donn...   \n",
       "2  Nella quale battaglia, certo io ebbi sempre ar...   \n",
       "\n",
       "                                              Target  \\\n",
       "0  Così anche un innamorato, invocando pietà dall...   \n",
       "1  A Milano, nel periodo in cui quest’uomo era si...   \n",
       "2  In quella battaglia, ebbi sempre il coraggio d...   \n",
       "\n",
       "                              Translation(Generated)  User_Score  \\\n",
       "0  Un altro amante chiamato merzé sua moglie dice...           1   \n",
       "1  A Milano fu respinta la malvagità di una donna...           2   \n",
       "2  In cui battaglia, certo, mi sono sempre arso d...           1   \n",
       "\n",
       "   Judge_Score(Prometheus)  Judge_Score(Gemini)  Judge_Score(GPT)  \n",
       "0                      NaN                    2                 2  \n",
       "1                      NaN                    3                 4  \n",
       "2                      NaN                    2                 3  "
      ]
     },
     "execution_count": 9,
     "metadata": {},
     "output_type": "execute_result"
    }
   ],
   "source": [
    "response.head(3)"
   ]
  },
  {
   "cell_type": "markdown",
   "id": "8c804818",
   "metadata": {},
   "source": [
    "### Run Judge and Record the Response"
   ]
  },
  {
   "cell_type": "code",
   "execution_count": 10,
   "id": "3eab0d6f",
   "metadata": {},
   "outputs": [
    {
     "ename": "KeyError",
     "evalue": "'reference_answer'",
     "output_type": "error",
     "traceback": [
      "\u001b[31m---------------------------------------------------------------------------\u001b[39m",
      "\u001b[31mKeyError\u001b[39m                                  Traceback (most recent call last)",
      "\u001b[36mCell\u001b[39m\u001b[36m \u001b[39m\u001b[32mIn[10]\u001b[39m\u001b[32m, line 1\u001b[39m\n\u001b[32m----> \u001b[39m\u001b[32m1\u001b[39m \u001b[43mj\u001b[49m\u001b[43m.\u001b[49m\u001b[43mprompt\u001b[49m\u001b[43m(\u001b[49m\u001b[43mresponse\u001b[49m\u001b[43m)\u001b[49m\n",
      "\u001b[36mFile \u001b[39m\u001b[32m~/Documenti/mnlp-hw2/src/PrometheusAPI.py:50\u001b[39m, in \u001b[36mPrometheusJudge.prompt\u001b[39m\u001b[34m(self, inputs)\u001b[39m\n\u001b[32m     27\u001b[39m \u001b[38;5;66;03m# Customize the prompt for Italian Tranlation - substitute {instructions-rubric-reference_answers} with correct instructions\u001b[39;00m\n\u001b[32m     28\u001b[39m ABSOLUTE_PROMPT =\u001b[33m\"\"\"\u001b[39m\u001b[33m###Task Description:\u001b[39m\n\u001b[32m     29\u001b[39m \u001b[33mAn instruction (might include an Input inside it), a response to evaluate, a reference answer that gets a score from 1 to 5, and a score rubric representing an evaluation criteria are given.\u001b[39m\n\u001b[32m     30\u001b[39m \u001b[33m1. Write a detailed feedback that assesses the quality of the response strictly based on the given score rubric, not evaluating in general.\u001b[39m\n\u001b[32m   (...)\u001b[39m\u001b[32m     46\u001b[39m \n\u001b[32m     47\u001b[39m \u001b[33m###Feedback: \u001b[39m\u001b[33m\"\"\"\u001b[39m\n\u001b[32m     49\u001b[39m messages = [\n\u001b[32m---> \u001b[39m\u001b[32m50\u001b[39m     {\u001b[33m\"\u001b[39m\u001b[33mrole\u001b[39m\u001b[33m\"\u001b[39m: \u001b[33m\"\u001b[39m\u001b[33muser\u001b[39m\u001b[33m\"\u001b[39m, \u001b[33m\"\u001b[39m\u001b[33mcontent\u001b[39m\u001b[33m\"\u001b[39m: ABS_SYSTEM_PROMPT + \u001b[33m\"\u001b[39m\u001b[38;5;130;01m\\n\u001b[39;00m\u001b[38;5;130;01m\\n\u001b[39;00m\u001b[33m\"\u001b[39m + \u001b[43mABSOLUTE_PROMPT\u001b[49m\u001b[43m.\u001b[49m\u001b[43mformat\u001b[49m\u001b[43m(\u001b[49m\u001b[43minstruction\u001b[49m\u001b[43m=\u001b[49m\u001b[43mprompt\u001b[49m\u001b[43m,\u001b[49m\u001b[43m \u001b[49m\u001b[43mresponse\u001b[49m\u001b[43m=\u001b[49m\u001b[43mresponse\u001b[49m\u001b[43m)\u001b[49m} \u001b[38;5;66;03m# Fill the prompt with your data\u001b[39;00m\n\u001b[32m     51\u001b[39m     \u001b[38;5;28;01mfor\u001b[39;00m prompt, response \u001b[38;5;129;01min\u001b[39;00m \u001b[38;5;28mzip\u001b[39m(inputs[\u001b[33m\"\u001b[39m\u001b[33mPrompt\u001b[39m\u001b[33m\"\u001b[39m],inputs[\u001b[33m\"\u001b[39m\u001b[33mTranslation(Generated)\u001b[39m\u001b[33m\"\u001b[39m])]\n\u001b[32m     53\u001b[39m \u001b[38;5;28;01mreturn\u001b[39;00m messages\n",
      "\u001b[31mKeyError\u001b[39m: 'reference_answer'"
     ]
    }
   ],
   "source": [
    "j.prompt(response)"
   ]
  },
  {
   "cell_type": "code",
   "execution_count": null,
   "id": "14b87643",
   "metadata": {},
   "outputs": [],
   "source": [
    "r = j.judge(response)"
   ]
  },
  {
   "cell_type": "code",
   "execution_count": null,
   "id": "49f52658",
   "metadata": {},
   "outputs": [],
   "source": []
  },
  {
   "cell_type": "markdown",
   "id": "6c2cffce",
   "metadata": {},
   "source": [
    "### Human-Metrics Correlation"
   ]
  },
  {
   "cell_type": "code",
   "execution_count": null,
   "id": "a1e7bf1c",
   "metadata": {},
   "outputs": [],
   "source": [
    "x = []\n",
    "y = []\n",
    "cohen_kappa_score(x, y)"
   ]
  }
 ],
 "metadata": {
  "kernelspec": {
   "display_name": "MNLP",
   "language": "python",
   "name": "python3"
  },
  "language_info": {
   "codemirror_mode": {
    "name": "ipython",
    "version": 3
   },
   "file_extension": ".py",
   "mimetype": "text/x-python",
   "name": "python",
   "nbconvert_exporter": "python",
   "pygments_lexer": "ipython3",
   "version": "3.13.3"
  }
 },
 "nbformat": 4,
 "nbformat_minor": 5
}
